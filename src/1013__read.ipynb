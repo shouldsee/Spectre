{
 "cells": [
  {
   "cell_type": "code",
   "execution_count": 16,
   "metadata": {},
   "outputs": [
    {
     "name": "stderr",
     "output_type": "stream",
     "text": [
      "[MSG] Initializing..."
     ]
    }
   ],
   "source": [
    "import Adafruit_BluefruitLE\n",
    "import time,sys,os\n",
    "import uuid\n",
    "import  Adafruit_BluefruitLE.services as adaServ\n",
    "ble = Adafruit_BluefruitLE.get_provider()\n",
    "\n",
    "sys.stderr.write(\"[MSG] Initializing...\")\n",
    "ble.initialize()\n",
    "\n",
    "adapter = ble.get_default_adapter()\n"
   ]
  },
  {
   "cell_type": "code",
   "execution_count": 17,
   "metadata": {},
   "outputs": [
    {
     "data": {
      "text/plain": [
       "dbus.Boolean(True, variant_level=1)"
      ]
     },
     "execution_count": 17,
     "metadata": {},
     "output_type": "execute_result"
    }
   ],
   "source": [
    "# adapter.is_scanning"
   ]
  },
  {
   "cell_type": "code",
   "execution_count": 20,
   "metadata": {},
   "outputs": [],
   "source": [
    "# ble.disconnect_devices\n",
    "# adaServ.UART.discover?"
   ]
  },
  {
   "cell_type": "code",
   "execution_count": 34,
   "metadata": {},
   "outputs": [
    {
     "name": "stdout",
     "output_type": "stream",
     "text": [
      "Overwriting readAda.py\n"
     ]
    }
   ],
   "source": [
    "%%writefile readAda.py\n",
    "#!/usr/bin/env python\n",
    "import Adafruit_BluefruitLE\n",
    "import time,sys,os\n",
    "import uuid\n",
    "import  Adafruit_BluefruitLE.services as adaServ\n",
    "\n",
    "def succ():\n",
    "    return sys.stderr.write(\"Success\\n\")\n",
    "\n",
    "def connectAda(ble,cooldown=1.):\n",
    "    UUID_BASIC = uuid.UUID('6E400001-B5A3-F393-E0A9-E50E24DCCA9E')\n",
    "    # UUID_BASIC = UUID_BASIC\n",
    "    #### https://learn.adafruit.com/introducing-adafruit-ble-bluetooth-low-energy-friend/uart-service\n",
    "    while True:\n",
    "        ble.clear_cached_data()\n",
    "        adapter = ble.get_default_adapter()\n",
    "#         adapter.power_on()\n",
    "#         try:\n",
    "#             adapter.start_scan(1.)\n",
    "#         finally:\n",
    "#             # Make sure scanning is stopped before exiting.\n",
    "#             adapter.stop_scan()        \n",
    "#         try:\n",
    "#             adapter.start_scan()\n",
    "#             # Search for the first UART device found (will time out after 60 seconds\n",
    "#             # but you can specify an optional timeout_sec parameter to change it).\n",
    "#             device = ble.find_device(service_uuids=[UART_SERVICE_UUID])\n",
    "#             if device is None:\n",
    "#                 raise RuntimeError('Failed to find UART device!')\n",
    "#                 continue \n",
    "#         finally:\n",
    "#             # Make sure scanning is stopped before exiting.\n",
    "#             adapter.stop_scan()\n",
    "\n",
    "\n",
    "        \n",
    "#         adapter.stop_scan()\n",
    "#         adapter.start_scan()\n",
    "        sys.stderr.write(\"[MSG] Finding Device for Service...%s\\n\"%UUID_BASIC)\n",
    "        dev = ble.find_device(service_uuids=[UUID_BASIC],timeout_sec=3)\n",
    "        if dev is None:\n",
    "            sys.stderr.write(\"...Retry\\n\")\n",
    "            time.sleep(cooldown)\n",
    "#             adapter.stop_scan()\n",
    "            continue \n",
    "#         adapter.stop_scan()\n",
    "        succ()\n",
    "        # assert dev is not None,'cannot find device with service uuid: %s'%UUID_BASIC\n",
    "\n",
    "#         time.sleep(cooldown)\n",
    "#         try:\n",
    "#             adaServ.UART.disconnect_devices(timeout_sec = 5)\n",
    "#         except RuntimeError as e:\n",
    "#             sys.stderr.write(\"[IGNORE]%s\\n\"%e)\n",
    "    \n",
    "        sys.stderr.write(\"[MSG] Connecting to Device:%s\\n\"%UUID_BASIC)\n",
    "        try:\n",
    "            dev.connect(timeout_sec = 5)\n",
    "        except RuntimeError as e:\n",
    "            sys.stderr.write(\"[IGNORE]%s\\n\"%e)\n",
    "            \n",
    "        if not dev.is_connected:\n",
    "            sys.stderr.write(\"...Retry\\n\")\n",
    "            time.sleep(cooldown)\n",
    "            continue \n",
    "        succ()\n",
    "            \n",
    "        sys.stderr.write(\"[MSG] Finding Service...%s\\n\"%UUID_BASIC)\n",
    "        serv = dev.find_service(UUID_BASIC)\n",
    "        if serv is None:\n",
    "            sys.stderr.write(\"...Retry\\n\")\n",
    "            time.sleep(cooldown)\n",
    "            continue \n",
    "        succ()\n",
    "        \n",
    "        chars = serv.list_characteristics()\n",
    "\n",
    "        uuid2channel = {'6e400002':'TX','6e400003':'RX'}\n",
    "        out = {'dev':dev}\n",
    "        lst = serv.list_characteristics()\n",
    "        for x in lst:\n",
    "            uuidhex= x.uuid.get_hex()\n",
    "            channel = uuid2channel.get(uuidhex[:8],None)\n",
    "            assert channel is not None, 'cannot identify uuid:dict:%s\\nquery:%s'%(uuid2channel,uuidhex)\n",
    "            out[channel] = x        \n",
    "        chars = util_obj(**out)\n",
    "        assert hasattr(chars,'RX'),'cannot find RX characteristic'\n",
    "        assert hasattr(chars,'TX'),'cannot find RX characteristic'\n",
    "        return chars\n",
    "\n",
    "def main(ble, dt = 0.5):\n",
    "    chars = connectAda(ble)\n",
    "    try:\n",
    "        sys.stderr.write('[MSG] Starting recording\\n')\n",
    "        header = 'time,blue,green\\n'\n",
    "        stdout.write(header)\n",
    "        while True:\n",
    "            dval = chars.RX.read_value()\n",
    "            s  = ''.join(map(str,dval))\n",
    "            s = str(time.time())+','+s\n",
    "            stdout.write(s)\n",
    "#                 s  = s.strip().split(',')\n",
    "            time.sleep(dt)                \n",
    "#         except Exception as e:\n",
    "    except KeyboardInterrupt as e:\n",
    "        raise e\n",
    "    finally:\n",
    "        try:\n",
    "            sys.stderr.write('[MSG] Disconnecting...\\n')\n",
    "            chars.dev.disconnect(timeout_sec=3)\n",
    "        except RuntimeError as e:\n",
    "            sys.stderr.write('[IGNORE]%s\\n'%e)\n",
    "\n",
    "class util_obj(object):\n",
    "    def __init__(self,**kwargs):\n",
    "        self.set_attr(**kwargs)\n",
    "        pass\n",
    "    \n",
    "    def reset(self,method):\n",
    "        mthd = getattr(self,method)\n",
    "        if isinstance(mthd, functools.partial):\n",
    "            setattr(self,method,mthd.func)\n",
    "        else:\n",
    "            print \"[WARN]:Trying to reset a native method\"\n",
    "        pass\n",
    "\n",
    "    def partial(self,attrN,**param):\n",
    "        attr = getattr(self,attrN)\n",
    "        newattr = functools.partial(attr,**param)\n",
    "        setattr(self,attrN,newattr)\n",
    "        pass\n",
    "    def set_attr(self,**param):\n",
    "        for k,v in param.items():\n",
    "            setattr(self, k, v)\n",
    "        return self\n",
    "    \n",
    "    def __getitem__(self,k):\n",
    "        return self.__dict__[k]\n",
    "    def __setitem__(self,k,v):\n",
    "        self.__dict__[k] = v\n",
    "\n",
    "        \n",
    "if __name__ =='__main__':\n",
    "    stdout = os.fdopen(sys.stdout.fileno(), 'w', 0)\n",
    "    \n",
    "    ble = Adafruit_BluefruitLE.get_provider()\n",
    "\n",
    "    sys.stderr.write(\"[MSG] Initializing...\")\n",
    "    ble.initialize()\n",
    "    succ()\n",
    "    while True:\n",
    "        try:\n",
    "            main(ble)\n",
    "        except KeyboardInterrupt:\n",
    "            sys.stderr.write('Interrupted\\n')\n",
    "            sys.exit(0)\n",
    "#             try:\n",
    "#                 sys.exit(0)\n",
    "#             except SystemExit:\n",
    "#                 os._exit(0)        \n",
    "#                 main()\n",
    "#     ble.run_mainloop_with(main)"
   ]
  },
  {
   "cell_type": "code",
   "execution_count": 30,
   "metadata": {},
   "outputs": [
    {
     "name": "stderr",
     "output_type": "stream",
     "text": [
      "[MSG] Finding Device for Service...6e400001-b5a3-f393-e0a9-e50e24dcca9e\n",
      "...Retry\n",
      "[MSG] Finding Device for Service...6e400001-b5a3-f393-e0a9-e50e24dcca9e\n",
      "...Retry\n",
      "[MSG] Finding Device for Service...6e400001-b5a3-f393-e0a9-e50e24dcca9e\n",
      "Success\n",
      "[MSG] Connecting to Device:6e400001-b5a3-f393-e0a9-e50e24dcca9e\n",
      "[IGNORE]Exceeded timeout waiting to connect to device!\n",
      "Success\n",
      "[MSG] Finding Service...6e400001-b5a3-f393-e0a9-e50e24dcca9e\n",
      "Success\n"
     ]
    }
   ],
   "source": [
    "import readAda as readAda;reload(readAda)\n",
    "ble = readAda.Adafruit_BluefruitLE.get_provider()\n",
    "chars = readAda.connectAda(ble)"
   ]
  },
  {
   "cell_type": "code",
   "execution_count": 2,
   "metadata": {},
   "outputs": [],
   "source": [
    "# adaServ.UART.di"
   ]
  },
  {
   "cell_type": "code",
   "execution_count": 33,
   "metadata": {},
   "outputs": [
    {
     "ename": "RuntimeError",
     "evalue": "Exceeded timeout waiting to disconnect from device!",
     "output_type": "error",
     "traceback": [
      "\u001b[0;31m---------------------------------------------------------------------------\u001b[0m",
      "\u001b[0;31mRuntimeError\u001b[0m                              Traceback (most recent call last)",
      "\u001b[0;32m<ipython-input-33-66866f7877ec>\u001b[0m in \u001b[0;36m<module>\u001b[0;34m()\u001b[0m\n\u001b[0;32m----> 1\u001b[0;31m \u001b[0mchars\u001b[0m\u001b[0;34m.\u001b[0m\u001b[0mdev\u001b[0m\u001b[0;34m.\u001b[0m\u001b[0mdisconnect\u001b[0m\u001b[0;34m(\u001b[0m\u001b[0;36m3\u001b[0m\u001b[0;34m)\u001b[0m\u001b[0;34m\u001b[0m\u001b[0m\n\u001b[0m",
      "\u001b[0;32m/home/shouldsee/.local/lib/python2.7/site-packages/Adafruit_BluefruitLE-0.9.10-py2.7.egg/Adafruit_BluefruitLE/bluez_dbus/device.pyc\u001b[0m in \u001b[0;36mdisconnect\u001b[0;34m(self, timeout_sec)\u001b[0m\n\u001b[1;32m     82\u001b[0m         \u001b[0mself\u001b[0m\u001b[0;34m.\u001b[0m\u001b[0m_device\u001b[0m\u001b[0;34m.\u001b[0m\u001b[0mDisconnect\u001b[0m\u001b[0;34m(\u001b[0m\u001b[0;34m)\u001b[0m\u001b[0;34m\u001b[0m\u001b[0m\n\u001b[1;32m     83\u001b[0m         \u001b[0;32mif\u001b[0m \u001b[0;32mnot\u001b[0m \u001b[0mself\u001b[0m\u001b[0;34m.\u001b[0m\u001b[0m_disconnected\u001b[0m\u001b[0;34m.\u001b[0m\u001b[0mwait\u001b[0m\u001b[0;34m(\u001b[0m\u001b[0mtimeout_sec\u001b[0m\u001b[0;34m)\u001b[0m\u001b[0;34m:\u001b[0m\u001b[0;34m\u001b[0m\u001b[0m\n\u001b[0;32m---> 84\u001b[0;31m             \u001b[0;32mraise\u001b[0m \u001b[0mRuntimeError\u001b[0m\u001b[0;34m(\u001b[0m\u001b[0;34m'Exceeded timeout waiting to disconnect from device!'\u001b[0m\u001b[0;34m)\u001b[0m\u001b[0;34m\u001b[0m\u001b[0m\n\u001b[0m\u001b[1;32m     85\u001b[0m \u001b[0;34m\u001b[0m\u001b[0m\n\u001b[1;32m     86\u001b[0m     \u001b[0;32mdef\u001b[0m \u001b[0mlist_services\u001b[0m\u001b[0;34m(\u001b[0m\u001b[0mself\u001b[0m\u001b[0;34m)\u001b[0m\u001b[0;34m:\u001b[0m\u001b[0;34m\u001b[0m\u001b[0m\n",
      "\u001b[0;31mRuntimeError\u001b[0m: Exceeded timeout waiting to disconnect from device!"
     ]
    }
   ],
   "source": [
    "chars.dev.disconnect(3)"
   ]
  },
  {
   "cell_type": "code",
   "execution_count": 161,
   "metadata": {},
   "outputs": [],
   "source": [
    "# sys.stdout.write?"
   ]
  },
  {
   "cell_type": "code",
   "execution_count": 155,
   "metadata": {},
   "outputs": [
    {
     "name": "stdout",
     "output_type": "stream",
     "text": [
      "1\n",
      "['48', '51']\n",
      "1\n",
      "['48', '51']\n",
      "1\n",
      "['48', '51']\n",
      "1\n",
      "['48', '51']\n",
      "1\n",
      "['48', '51']\n"
     ]
    },
    {
     "ename": "KeyboardInterrupt",
     "evalue": "",
     "output_type": "error",
     "traceback": [
      "\u001b[0;31m---------------------------------------------------------------------------\u001b[0m",
      "\u001b[0;31mKeyboardInterrupt\u001b[0m                         Traceback (most recent call last)",
      "\u001b[0;32m<ipython-input-155-40b5f770e946>\u001b[0m in \u001b[0;36m<module>\u001b[0;34m()\u001b[0m\n\u001b[1;32m      3\u001b[0m     \u001b[0mdval\u001b[0m \u001b[0;34m=\u001b[0m \u001b[0mchars\u001b[0m\u001b[0;34m.\u001b[0m\u001b[0mRX\u001b[0m\u001b[0;34m.\u001b[0m\u001b[0mread_value\u001b[0m\u001b[0;34m(\u001b[0m\u001b[0;34m)\u001b[0m\u001b[0;34m\u001b[0m\u001b[0m\n\u001b[1;32m      4\u001b[0m     \u001b[0;32mprint\u001b[0m \u001b[0;34m''\u001b[0m\u001b[0;34m.\u001b[0m\u001b[0mjoin\u001b[0m\u001b[0;34m(\u001b[0m\u001b[0mmap\u001b[0m\u001b[0;34m(\u001b[0m\u001b[0mstr\u001b[0m\u001b[0;34m,\u001b[0m\u001b[0mdval\u001b[0m\u001b[0;34m)\u001b[0m\u001b[0;34m)\u001b[0m\u001b[0;34m.\u001b[0m\u001b[0mstrip\u001b[0m\u001b[0;34m(\u001b[0m\u001b[0;34m)\u001b[0m\u001b[0;34m.\u001b[0m\u001b[0msplit\u001b[0m\u001b[0;34m(\u001b[0m\u001b[0;34m','\u001b[0m\u001b[0;34m)\u001b[0m\u001b[0;34m\u001b[0m\u001b[0m\n\u001b[0;32m----> 5\u001b[0;31m     \u001b[0mtime\u001b[0m\u001b[0;34m.\u001b[0m\u001b[0msleep\u001b[0m\u001b[0;34m(\u001b[0m\u001b[0;36m1.\u001b[0m\u001b[0;34m)\u001b[0m\u001b[0;34m\u001b[0m\u001b[0m\n\u001b[0m",
      "\u001b[0;31mKeyboardInterrupt\u001b[0m: "
     ]
    }
   ],
   "source": [
    "for i in range(100):\n",
    "    print dev.is_connected\n",
    "    dval = chars.RX.read_value()\n",
    "    print ''.join(map(str,dval)).strip().split(',')\n",
    "    time.sleep(1.)"
   ]
  },
  {
   "cell_type": "code",
   "execution_count": 110,
   "metadata": {},
   "outputs": [
    {
     "data": {
      "text/plain": [
       "dbus.Boolean(True, variant_level=1)"
      ]
     },
     "execution_count": 110,
     "metadata": {},
     "output_type": "execute_result"
    }
   ],
   "source": [
    "\n",
    "dvdev.is_connected"
   ]
  },
  {
   "cell_type": "code",
   "execution_count": 93,
   "metadata": {},
   "outputs": [
    {
     "data": {
      "text/plain": [
       "dbus.Boolean(False, variant_level=1)"
      ]
     },
     "execution_count": 93,
     "metadata": {},
     "output_type": "execute_result"
    }
   ],
   "source": [
    "dev.is_connected"
   ]
  },
  {
   "cell_type": "code",
   "execution_count": null,
   "metadata": {},
   "outputs": [],
   "source": []
  },
  {
   "cell_type": "code",
   "execution_count": 72,
   "metadata": {},
   "outputs": [],
   "source": [
    "# chars[0]\n",
    "# serv.find_characteristic?"
   ]
  },
  {
   "cell_type": "code",
   "execution_count": 63,
   "metadata": {},
   "outputs": [],
   "source": [
    "dev.find_service??"
   ]
  },
  {
   "cell_type": "code",
   "execution_count": 23,
   "metadata": {},
   "outputs": [],
   "source": [
    "serv= servs[0]"
   ]
  },
  {
   "cell_type": "code",
   "execution_count": 43,
   "metadata": {},
   "outputs": [],
   "source": [
    "# servs.\n",
    "dev.find_service"
   ]
  },
  {
   "cell_type": "code",
   "execution_count": 40,
   "metadata": {},
   "outputs": [
    {
     "ename": "DBusException",
     "evalue": "org.bluez.Error.NotPermitted: Read not permitted",
     "output_type": "error",
     "traceback": [
      "\u001b[0;31m---------------------------------------------------------------------------\u001b[0m",
      "\u001b[0;31mDBusException\u001b[0m                             Traceback (most recent call last)",
      "\u001b[0;32m<ipython-input-40-ec4a48bc0d08>\u001b[0m in \u001b[0;36m<module>\u001b[0;34m()\u001b[0m\n\u001b[1;32m      4\u001b[0m \u001b[0;31m# desp.read_value()\u001b[0m\u001b[0;34m\u001b[0m\u001b[0;34m\u001b[0m\u001b[0m\n\u001b[1;32m      5\u001b[0m \u001b[0;31m# desp.uuid\u001b[0m\u001b[0;34m\u001b[0m\u001b[0;34m\u001b[0m\u001b[0m\n\u001b[0;32m----> 6\u001b[0;31m \u001b[0mchar\u001b[0m\u001b[0;34m.\u001b[0m\u001b[0mread_value\u001b[0m\u001b[0;34m(\u001b[0m\u001b[0;34m)\u001b[0m\u001b[0;34m\u001b[0m\u001b[0m\n\u001b[0m",
      "\u001b[0;32m/home/shouldsee/.local/lib/python2.7/site-packages/Adafruit_BluefruitLE-0.9.10-py2.7.egg/Adafruit_BluefruitLE/bluez_dbus/gatt.pyc\u001b[0m in \u001b[0;36mread_value\u001b[0;34m(self)\u001b[0m\n\u001b[1;32m     76\u001b[0m     \u001b[0;32mdef\u001b[0m \u001b[0mread_value\u001b[0m\u001b[0;34m(\u001b[0m\u001b[0mself\u001b[0m\u001b[0;34m)\u001b[0m\u001b[0;34m:\u001b[0m\u001b[0;34m\u001b[0m\u001b[0m\n\u001b[1;32m     77\u001b[0m         \u001b[0;34m\"\"\"Read the value of this characteristic.\"\"\"\u001b[0m\u001b[0;34m\u001b[0m\u001b[0m\n\u001b[0;32m---> 78\u001b[0;31m         \u001b[0;32mreturn\u001b[0m \u001b[0mself\u001b[0m\u001b[0;34m.\u001b[0m\u001b[0m_characteristic\u001b[0m\u001b[0;34m.\u001b[0m\u001b[0mReadValue\u001b[0m\u001b[0;34m(\u001b[0m\u001b[0;34m)\u001b[0m\u001b[0;34m\u001b[0m\u001b[0m\n\u001b[0m\u001b[1;32m     79\u001b[0m \u001b[0;34m\u001b[0m\u001b[0m\n\u001b[1;32m     80\u001b[0m     \u001b[0;32mdef\u001b[0m \u001b[0mwrite_value\u001b[0m\u001b[0;34m(\u001b[0m\u001b[0mself\u001b[0m\u001b[0;34m,\u001b[0m \u001b[0mvalue\u001b[0m\u001b[0;34m)\u001b[0m\u001b[0;34m:\u001b[0m\u001b[0;34m\u001b[0m\u001b[0m\n",
      "\u001b[0;32m/usr/lib/python2.7/dist-packages/dbus/proxies.pyc\u001b[0m in \u001b[0;36m__call__\u001b[0;34m(self, *args, **keywords)\u001b[0m\n\u001b[1;32m    143\u001b[0m                                                   \u001b[0msignature\u001b[0m\u001b[0;34m,\u001b[0m\u001b[0;34m\u001b[0m\u001b[0m\n\u001b[1;32m    144\u001b[0m                                                   \u001b[0margs\u001b[0m\u001b[0;34m,\u001b[0m\u001b[0;34m\u001b[0m\u001b[0m\n\u001b[0;32m--> 145\u001b[0;31m                                                   **keywords)\n\u001b[0m\u001b[1;32m    146\u001b[0m \u001b[0;34m\u001b[0m\u001b[0m\n\u001b[1;32m    147\u001b[0m     \u001b[0;32mdef\u001b[0m \u001b[0mcall_async\u001b[0m\u001b[0;34m(\u001b[0m\u001b[0mself\u001b[0m\u001b[0;34m,\u001b[0m \u001b[0;34m*\u001b[0m\u001b[0margs\u001b[0m\u001b[0;34m,\u001b[0m \u001b[0;34m**\u001b[0m\u001b[0mkeywords\u001b[0m\u001b[0;34m)\u001b[0m\u001b[0;34m:\u001b[0m\u001b[0;34m\u001b[0m\u001b[0m\n",
      "\u001b[0;32m/usr/lib/python2.7/dist-packages/dbus/connection.pyc\u001b[0m in \u001b[0;36mcall_blocking\u001b[0;34m(self, bus_name, object_path, dbus_interface, method, signature, args, timeout, byte_arrays, **kwargs)\u001b[0m\n\u001b[1;32m    649\u001b[0m         \u001b[0;31m# make a blocking call\u001b[0m\u001b[0;34m\u001b[0m\u001b[0;34m\u001b[0m\u001b[0m\n\u001b[1;32m    650\u001b[0m         reply_message = self.send_message_with_reply_and_block(\n\u001b[0;32m--> 651\u001b[0;31m             message, timeout)\n\u001b[0m\u001b[1;32m    652\u001b[0m         \u001b[0margs_list\u001b[0m \u001b[0;34m=\u001b[0m \u001b[0mreply_message\u001b[0m\u001b[0;34m.\u001b[0m\u001b[0mget_args_list\u001b[0m\u001b[0;34m(\u001b[0m\u001b[0;34m**\u001b[0m\u001b[0mget_args_opts\u001b[0m\u001b[0;34m)\u001b[0m\u001b[0;34m\u001b[0m\u001b[0m\n\u001b[1;32m    653\u001b[0m         \u001b[0;32mif\u001b[0m \u001b[0mlen\u001b[0m\u001b[0;34m(\u001b[0m\u001b[0margs_list\u001b[0m\u001b[0;34m)\u001b[0m \u001b[0;34m==\u001b[0m \u001b[0;36m0\u001b[0m\u001b[0;34m:\u001b[0m\u001b[0;34m\u001b[0m\u001b[0m\n",
      "\u001b[0;31mDBusException\u001b[0m: org.bluez.Error.NotPermitted: Read not permitted"
     ]
    }
   ],
   "source": [
    "# servs\n",
    "# serv.list_characteristics()\n",
    "desp = char.list_descriptors()[0]\n",
    "# desp.read_value()\n",
    "# desp.uuid\n",
    "# char.read_value()"
   ]
  },
  {
   "cell_type": "code",
   "execution_count": 28,
   "metadata": {},
   "outputs": [
    {
     "ename": "DBusException",
     "evalue": "org.bluez.Error.NotPermitted: Read not permitted",
     "output_type": "error",
     "traceback": [
      "\u001b[0;31m---------------------------------------------------------------------------\u001b[0m",
      "\u001b[0;31mDBusException\u001b[0m                             Traceback (most recent call last)",
      "\u001b[0;32m<ipython-input-28-9a092db41417>\u001b[0m in \u001b[0;36m<module>\u001b[0;34m()\u001b[0m\n\u001b[1;32m      1\u001b[0m \u001b[0mchar\u001b[0m \u001b[0;34m=\u001b[0m \u001b[0mserv\u001b[0m\u001b[0;34m.\u001b[0m\u001b[0mlist_characteristics\u001b[0m\u001b[0;34m(\u001b[0m\u001b[0;34m)\u001b[0m\u001b[0;34m[\u001b[0m\u001b[0;36m0\u001b[0m\u001b[0;34m]\u001b[0m\u001b[0;34m\u001b[0m\u001b[0m\n\u001b[0;32m----> 2\u001b[0;31m \u001b[0mchar\u001b[0m\u001b[0;34m.\u001b[0m\u001b[0mread_value\u001b[0m\u001b[0;34m(\u001b[0m\u001b[0;34m)\u001b[0m\u001b[0;34m\u001b[0m\u001b[0m\n\u001b[0m",
      "\u001b[0;32m/home/shouldsee/.local/lib/python2.7/site-packages/Adafruit_BluefruitLE-0.9.10-py2.7.egg/Adafruit_BluefruitLE/bluez_dbus/gatt.pyc\u001b[0m in \u001b[0;36mread_value\u001b[0;34m(self)\u001b[0m\n\u001b[1;32m     76\u001b[0m     \u001b[0;32mdef\u001b[0m \u001b[0mread_value\u001b[0m\u001b[0;34m(\u001b[0m\u001b[0mself\u001b[0m\u001b[0;34m)\u001b[0m\u001b[0;34m:\u001b[0m\u001b[0;34m\u001b[0m\u001b[0m\n\u001b[1;32m     77\u001b[0m         \u001b[0;34m\"\"\"Read the value of this characteristic.\"\"\"\u001b[0m\u001b[0;34m\u001b[0m\u001b[0m\n\u001b[0;32m---> 78\u001b[0;31m         \u001b[0;32mreturn\u001b[0m \u001b[0mself\u001b[0m\u001b[0;34m.\u001b[0m\u001b[0m_characteristic\u001b[0m\u001b[0;34m.\u001b[0m\u001b[0mReadValue\u001b[0m\u001b[0;34m(\u001b[0m\u001b[0;34m)\u001b[0m\u001b[0;34m\u001b[0m\u001b[0m\n\u001b[0m\u001b[1;32m     79\u001b[0m \u001b[0;34m\u001b[0m\u001b[0m\n\u001b[1;32m     80\u001b[0m     \u001b[0;32mdef\u001b[0m \u001b[0mwrite_value\u001b[0m\u001b[0;34m(\u001b[0m\u001b[0mself\u001b[0m\u001b[0;34m,\u001b[0m \u001b[0mvalue\u001b[0m\u001b[0;34m)\u001b[0m\u001b[0;34m:\u001b[0m\u001b[0;34m\u001b[0m\u001b[0m\n",
      "\u001b[0;32m/usr/lib/python2.7/dist-packages/dbus/proxies.pyc\u001b[0m in \u001b[0;36m__call__\u001b[0;34m(self, *args, **keywords)\u001b[0m\n\u001b[1;32m     68\u001b[0m             \u001b[0;31m# we're being synchronous, so block\u001b[0m\u001b[0;34m\u001b[0m\u001b[0;34m\u001b[0m\u001b[0m\n\u001b[1;32m     69\u001b[0m             \u001b[0mself\u001b[0m\u001b[0;34m.\u001b[0m\u001b[0m_block\u001b[0m\u001b[0;34m(\u001b[0m\u001b[0;34m)\u001b[0m\u001b[0;34m\u001b[0m\u001b[0m\n\u001b[0;32m---> 70\u001b[0;31m             \u001b[0;32mreturn\u001b[0m \u001b[0mself\u001b[0m\u001b[0;34m.\u001b[0m\u001b[0m_proxy_method\u001b[0m\u001b[0;34m(\u001b[0m\u001b[0;34m*\u001b[0m\u001b[0margs\u001b[0m\u001b[0;34m,\u001b[0m \u001b[0;34m**\u001b[0m\u001b[0mkeywords\u001b[0m\u001b[0;34m)\u001b[0m\u001b[0;34m\u001b[0m\u001b[0m\n\u001b[0m\u001b[1;32m     71\u001b[0m \u001b[0;34m\u001b[0m\u001b[0m\n\u001b[1;32m     72\u001b[0m     \u001b[0;32mdef\u001b[0m \u001b[0mcall_async\u001b[0m\u001b[0;34m(\u001b[0m\u001b[0mself\u001b[0m\u001b[0;34m,\u001b[0m \u001b[0;34m*\u001b[0m\u001b[0margs\u001b[0m\u001b[0;34m,\u001b[0m \u001b[0;34m**\u001b[0m\u001b[0mkeywords\u001b[0m\u001b[0;34m)\u001b[0m\u001b[0;34m:\u001b[0m\u001b[0;34m\u001b[0m\u001b[0m\n",
      "\u001b[0;32m/usr/lib/python2.7/dist-packages/dbus/proxies.pyc\u001b[0m in \u001b[0;36m__call__\u001b[0;34m(self, *args, **keywords)\u001b[0m\n\u001b[1;32m    143\u001b[0m                                                   \u001b[0msignature\u001b[0m\u001b[0;34m,\u001b[0m\u001b[0;34m\u001b[0m\u001b[0m\n\u001b[1;32m    144\u001b[0m                                                   \u001b[0margs\u001b[0m\u001b[0;34m,\u001b[0m\u001b[0;34m\u001b[0m\u001b[0m\n\u001b[0;32m--> 145\u001b[0;31m                                                   **keywords)\n\u001b[0m\u001b[1;32m    146\u001b[0m \u001b[0;34m\u001b[0m\u001b[0m\n\u001b[1;32m    147\u001b[0m     \u001b[0;32mdef\u001b[0m \u001b[0mcall_async\u001b[0m\u001b[0;34m(\u001b[0m\u001b[0mself\u001b[0m\u001b[0;34m,\u001b[0m \u001b[0;34m*\u001b[0m\u001b[0margs\u001b[0m\u001b[0;34m,\u001b[0m \u001b[0;34m**\u001b[0m\u001b[0mkeywords\u001b[0m\u001b[0;34m)\u001b[0m\u001b[0;34m:\u001b[0m\u001b[0;34m\u001b[0m\u001b[0m\n",
      "\u001b[0;32m/usr/lib/python2.7/dist-packages/dbus/connection.pyc\u001b[0m in \u001b[0;36mcall_blocking\u001b[0;34m(self, bus_name, object_path, dbus_interface, method, signature, args, timeout, byte_arrays, **kwargs)\u001b[0m\n\u001b[1;32m    649\u001b[0m         \u001b[0;31m# make a blocking call\u001b[0m\u001b[0;34m\u001b[0m\u001b[0;34m\u001b[0m\u001b[0m\n\u001b[1;32m    650\u001b[0m         reply_message = self.send_message_with_reply_and_block(\n\u001b[0;32m--> 651\u001b[0;31m             message, timeout)\n\u001b[0m\u001b[1;32m    652\u001b[0m         \u001b[0margs_list\u001b[0m \u001b[0;34m=\u001b[0m \u001b[0mreply_message\u001b[0m\u001b[0;34m.\u001b[0m\u001b[0mget_args_list\u001b[0m\u001b[0;34m(\u001b[0m\u001b[0;34m**\u001b[0m\u001b[0mget_args_opts\u001b[0m\u001b[0;34m)\u001b[0m\u001b[0;34m\u001b[0m\u001b[0m\n\u001b[1;32m    653\u001b[0m         \u001b[0;32mif\u001b[0m \u001b[0mlen\u001b[0m\u001b[0;34m(\u001b[0m\u001b[0margs_list\u001b[0m\u001b[0;34m)\u001b[0m \u001b[0;34m==\u001b[0m \u001b[0;36m0\u001b[0m\u001b[0;34m:\u001b[0m\u001b[0;34m\u001b[0m\u001b[0m\n",
      "\u001b[0;31mDBusException\u001b[0m: org.bluez.Error.NotPermitted: Read not permitted"
     ]
    }
   ],
   "source": [
    "char = serv.list_characteristics()[0]\n",
    "char.read_value()"
   ]
  },
  {
   "cell_type": "code",
   "execution_count": 17,
   "metadata": {},
   "outputs": [
    {
     "data": {
      "text/plain": [
       "dbus.Boolean(True, variant_level=1)"
      ]
     },
     "execution_count": 17,
     "metadata": {},
     "output_type": "execute_result"
    }
   ],
   "source": [
    "# dev.is_connected"
   ]
  },
  {
   "cell_type": "code",
   "execution_count": 6,
   "metadata": {},
   "outputs": [
    {
     "name": "stdout",
     "output_type": "stream",
     "text": [
      "Connecting\n",
      "<Adafruit_BluefruitLE.bluez_dbus.device.BluezDevice object at 0x7efd000854d0>\n"
     ]
    },
    {
     "ename": "KeyboardInterrupt",
     "evalue": "",
     "output_type": "error",
     "traceback": [
      "\u001b[0;31m---------------------------------------------------------------------------\u001b[0m",
      "\u001b[0;31mKeyboardInterrupt\u001b[0m                         Traceback (most recent call last)",
      "\u001b[0;32m<ipython-input-6-f9e95455a6cd>\u001b[0m in \u001b[0;36m<module>\u001b[0;34m()\u001b[0m\n\u001b[1;32m      4\u001b[0m \u001b[0mdev\u001b[0m \u001b[0;34m=\u001b[0m \u001b[0mUART\u001b[0m\u001b[0;34m.\u001b[0m\u001b[0mfind_devices\u001b[0m\u001b[0;34m(\u001b[0m\u001b[0;34m)\u001b[0m\u001b[0;34m[\u001b[0m\u001b[0;36m0\u001b[0m\u001b[0;34m]\u001b[0m\u001b[0;34m\u001b[0m\u001b[0m\n\u001b[1;32m      5\u001b[0m \u001b[0;32mprint\u001b[0m \u001b[0mdev\u001b[0m\u001b[0;34m\u001b[0m\u001b[0m\n\u001b[0;32m----> 6\u001b[0;31m \u001b[0mdev\u001b[0m\u001b[0;34m.\u001b[0m\u001b[0mconnect\u001b[0m\u001b[0;34m(\u001b[0m\u001b[0;34m)\u001b[0m\u001b[0;34m\u001b[0m\u001b[0m\n\u001b[0m",
      "\u001b[0;32m/home/shouldsee/.local/lib/python2.7/site-packages/Adafruit_BluefruitLE-0.9.10-py2.7.egg/Adafruit_BluefruitLE/bluez_dbus/device.pyc\u001b[0m in \u001b[0;36mconnect\u001b[0;34m(self, timeout_sec)\u001b[0m\n\u001b[1;32m     72\u001b[0m         \u001b[0mself\u001b[0m\u001b[0;34m.\u001b[0m\u001b[0m_connected\u001b[0m\u001b[0;34m.\u001b[0m\u001b[0mclear\u001b[0m\u001b[0;34m(\u001b[0m\u001b[0;34m)\u001b[0m\u001b[0;34m\u001b[0m\u001b[0m\n\u001b[1;32m     73\u001b[0m         \u001b[0mself\u001b[0m\u001b[0;34m.\u001b[0m\u001b[0m_device\u001b[0m\u001b[0;34m.\u001b[0m\u001b[0mConnect\u001b[0m\u001b[0;34m(\u001b[0m\u001b[0;34m)\u001b[0m\u001b[0;34m\u001b[0m\u001b[0m\n\u001b[0;32m---> 74\u001b[0;31m         \u001b[0;32mif\u001b[0m \u001b[0;32mnot\u001b[0m \u001b[0mself\u001b[0m\u001b[0;34m.\u001b[0m\u001b[0m_connected\u001b[0m\u001b[0;34m.\u001b[0m\u001b[0mwait\u001b[0m\u001b[0;34m(\u001b[0m\u001b[0mtimeout_sec\u001b[0m\u001b[0;34m)\u001b[0m\u001b[0;34m:\u001b[0m\u001b[0;34m\u001b[0m\u001b[0m\n\u001b[0m\u001b[1;32m     75\u001b[0m             \u001b[0;32mraise\u001b[0m \u001b[0mRuntimeError\u001b[0m\u001b[0;34m(\u001b[0m\u001b[0;34m'Exceeded timeout waiting to connect to device!'\u001b[0m\u001b[0;34m)\u001b[0m\u001b[0;34m\u001b[0m\u001b[0m\n\u001b[1;32m     76\u001b[0m \u001b[0;34m\u001b[0m\u001b[0m\n",
      "\u001b[0;32m/usr/lib/python2.7/threading.pyc\u001b[0m in \u001b[0;36mwait\u001b[0;34m(self, timeout)\u001b[0m\n\u001b[1;32m    612\u001b[0m         \u001b[0;32mwith\u001b[0m \u001b[0mself\u001b[0m\u001b[0;34m.\u001b[0m\u001b[0m__cond\u001b[0m\u001b[0;34m:\u001b[0m\u001b[0;34m\u001b[0m\u001b[0m\n\u001b[1;32m    613\u001b[0m             \u001b[0;32mif\u001b[0m \u001b[0;32mnot\u001b[0m \u001b[0mself\u001b[0m\u001b[0;34m.\u001b[0m\u001b[0m__flag\u001b[0m\u001b[0;34m:\u001b[0m\u001b[0;34m\u001b[0m\u001b[0m\n\u001b[0;32m--> 614\u001b[0;31m                 \u001b[0mself\u001b[0m\u001b[0;34m.\u001b[0m\u001b[0m__cond\u001b[0m\u001b[0;34m.\u001b[0m\u001b[0mwait\u001b[0m\u001b[0;34m(\u001b[0m\u001b[0mtimeout\u001b[0m\u001b[0;34m)\u001b[0m\u001b[0;34m\u001b[0m\u001b[0m\n\u001b[0m\u001b[1;32m    615\u001b[0m             \u001b[0;32mreturn\u001b[0m \u001b[0mself\u001b[0m\u001b[0;34m.\u001b[0m\u001b[0m__flag\u001b[0m\u001b[0;34m\u001b[0m\u001b[0m\n\u001b[1;32m    616\u001b[0m \u001b[0;34m\u001b[0m\u001b[0m\n",
      "\u001b[0;32m/usr/lib/python2.7/threading.pyc\u001b[0m in \u001b[0;36mwait\u001b[0;34m(self, timeout)\u001b[0m\n\u001b[1;32m    357\u001b[0m                         \u001b[0;32mbreak\u001b[0m\u001b[0;34m\u001b[0m\u001b[0m\n\u001b[1;32m    358\u001b[0m                     \u001b[0mdelay\u001b[0m \u001b[0;34m=\u001b[0m \u001b[0mmin\u001b[0m\u001b[0;34m(\u001b[0m\u001b[0mdelay\u001b[0m \u001b[0;34m*\u001b[0m \u001b[0;36m2\u001b[0m\u001b[0;34m,\u001b[0m \u001b[0mremaining\u001b[0m\u001b[0;34m,\u001b[0m \u001b[0;36m.05\u001b[0m\u001b[0;34m)\u001b[0m\u001b[0;34m\u001b[0m\u001b[0m\n\u001b[0;32m--> 359\u001b[0;31m                     \u001b[0m_sleep\u001b[0m\u001b[0;34m(\u001b[0m\u001b[0mdelay\u001b[0m\u001b[0;34m)\u001b[0m\u001b[0;34m\u001b[0m\u001b[0m\n\u001b[0m\u001b[1;32m    360\u001b[0m                 \u001b[0;32mif\u001b[0m \u001b[0;32mnot\u001b[0m \u001b[0mgotit\u001b[0m\u001b[0;34m:\u001b[0m\u001b[0;34m\u001b[0m\u001b[0m\n\u001b[1;32m    361\u001b[0m                     \u001b[0;32mif\u001b[0m \u001b[0m__debug__\u001b[0m\u001b[0;34m:\u001b[0m\u001b[0;34m\u001b[0m\u001b[0m\n",
      "\u001b[0;31mKeyboardInterrupt\u001b[0m: "
     ]
    }
   ],
   "source": [
    "UART.disconnect_devices()\n",
    "\n",
    "print \"Connecting\"\n",
    "dev = UART.find_devices()[0]\n",
    "print dev\n",
    "dev.connect()"
   ]
  },
  {
   "cell_type": "code",
   "execution_count": 2,
   "metadata": {},
   "outputs": [],
   "source": [
    "import atexit\n",
    "import time\n",
    "\n",
    "import Adafruit_BluefruitLE\n",
    "from Adafruit_BluefruitLE.services import UART\n",
    "\n",
    "\n",
    "# Get the BLE provider for the current platform.\n",
    "ble = Adafruit_BluefruitLE.get_provider()\n",
    "def main():\n",
    "    # Clear any cached data because both bluez and CoreBluetooth have issues with\n",
    "    # caching data and it going stale.\n",
    "    ble.clear_cached_data()\n",
    "\n",
    "    # Get the first available BLE network adapter and make sure it's powered on.\n",
    "    adapter = ble.get_default_adapter()\n",
    "    adapter.power_on()\n",
    "    print('Using adapter: {0}'.format(adapter.name))\n",
    "\n",
    "    # Start scanning with the bluetooth adapter.\n",
    "    adapter.start_scan()\n",
    "    # Use atexit.register to call the adapter stop_scan function before quiting.\n",
    "    # This is good practice for calling cleanup code in this main function as\n",
    "    # a try/finally block might not be called since this is a background thread.\n",
    "    atexit.register(adapter.stop_scan)\n",
    "    print('Searching for UART devices...')\n",
    "    print('Press Ctrl-C to quit (will take ~30 seconds on OSX).')\n",
    "    # Enter a loop and print out whenever a new UART device is found.\n",
    "    known_uarts = set()\n",
    "    while True:\n",
    "        # Call UART.find_devices to get a list of any UART devices that\n",
    "        # have been found.  This call will quickly return results and does\n",
    "        # not wait for devices to appear.\n",
    "        found = set(UART.find_devices())\n",
    "        # Check for new devices that haven't been seen yet and print out\n",
    "        # their name and ID (MAC address on Linux, GUID on OSX).\n",
    "        new = found - known_uarts\n",
    "        for device in new:\n",
    "            print('Found UART: {0} [{1}]'.format(device.name, device.id))\n",
    "        known_uarts.update(new)\n",
    "        # Sleep for a second and see if new devices have appeared.\n",
    "        time.sleep(1.0)"
   ]
  },
  {
   "cell_type": "code",
   "execution_count": null,
   "metadata": {},
   "outputs": [],
   "source": [
    "ble.run"
   ]
  },
  {
   "cell_type": "code",
   "execution_count": 8,
   "metadata": {},
   "outputs": [],
   "source": [
    "# Adafruit_BluefruitLEAd\n",
    "a = ble.list_adapters()"
   ]
  },
  {
   "cell_type": "code",
   "execution_count": 10,
   "metadata": {},
   "outputs": [],
   "source": [
    "??Adafruit_BluefruitLE.get_provider"
   ]
  },
  {
   "cell_type": "code",
   "execution_count": 8,
   "metadata": {},
   "outputs": [],
   "source": [
    "ble._bluez?"
   ]
  },
  {
   "cell_type": "code",
   "execution_count": 5,
   "metadata": {},
   "outputs": [
    {
     "ename": "AttributeError",
     "evalue": "'NoneType' object has no attribute 'GetManagedObjects'",
     "output_type": "error",
     "traceback": [
      "\u001b[0;31m---------------------------------------------------------------------------\u001b[0m",
      "\u001b[0;31mAttributeError\u001b[0m                            Traceback (most recent call last)",
      "\u001b[0;32m<ipython-input-5-73b4acb8f657>\u001b[0m in \u001b[0;36m<module>\u001b[0;34m()\u001b[0m\n\u001b[1;32m      1\u001b[0m \u001b[0;31m# ble.get_default_adapter()\u001b[0m\u001b[0;34m\u001b[0m\u001b[0;34m\u001b[0m\u001b[0m\n\u001b[0;32m----> 2\u001b[0;31m \u001b[0mble\u001b[0m\u001b[0;34m.\u001b[0m\u001b[0m_bluez\u001b[0m\u001b[0;34m.\u001b[0m\u001b[0mGetManagedObjects\u001b[0m\u001b[0;34m(\u001b[0m\u001b[0;34m)\u001b[0m\u001b[0;34m\u001b[0m\u001b[0m\n\u001b[0m",
      "\u001b[0;31mAttributeError\u001b[0m: 'NoneType' object has no attribute 'GetManagedObjects'"
     ]
    }
   ],
   "source": [
    "# ble.get_default_adapter()\n",
    "# ble._bluez.GetManagedObjects()"
   ]
  }
 ],
 "metadata": {
  "kernelspec": {
   "display_name": "Python 2",
   "language": "python",
   "name": "python2"
  },
  "language_info": {
   "codemirror_mode": {
    "name": "ipython",
    "version": 2
   },
   "file_extension": ".py",
   "mimetype": "text/x-python",
   "name": "python",
   "nbconvert_exporter": "python",
   "pygments_lexer": "ipython2",
   "version": "2.7.15rc1"
  }
 },
 "nbformat": 4,
 "nbformat_minor": 2
}
