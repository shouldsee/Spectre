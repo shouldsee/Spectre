{
 "cells": [
  {
   "cell_type": "code",
   "execution_count": 6,
   "metadata": {},
   "outputs": [
    {
     "name": "stdout",
     "output_type": "stream",
     "text": [
      "\r\n",
      "Type 'django-admin help <subcommand>' for help on a specific subcommand.\r\n",
      "\r\n",
      "Available subcommands:\r\n",
      "\r\n",
      "\u001b[31m[django]\u001b[0m\r\n",
      "    check\r\n",
      "    compilemessages\r\n",
      "    createcachetable\r\n",
      "    dbshell\r\n",
      "    diffsettings\r\n",
      "    dumpdata\r\n",
      "    flush\r\n",
      "    inspectdb\r\n",
      "    loaddata\r\n",
      "    makemessages\r\n",
      "    makemigrations\r\n",
      "    migrate\r\n",
      "    runserver\r\n",
      "    sendtestemail\r\n",
      "    shell\r\n",
      "    showmigrations\r\n",
      "    sqlflush\r\n",
      "    sqlmigrate\r\n",
      "    sqlsequencereset\r\n",
      "    squashmigrations\r\n",
      "    startapp\r\n",
      "    startproject\r\n",
      "    test\r\n",
      "    testserver\r\n",
      "\u001b[31mNote that only Django core commands are listed as settings are not properly configured (error: Requested setting INSTALLED_APPS, but settings are not configured. You must either define the environment variable DJANGO_SETTINGS_MODULE or call settings.configure() before accessing settings.).\u001b[0m\r\n"
     ]
    }
   ],
   "source": [
    "!django-admin"
   ]
  },
  {
   "cell_type": "code",
   "execution_count": 9,
   "metadata": {},
   "outputs": [],
   "source": [
    "!django-admin startproject proj"
   ]
  },
  {
   "cell_type": "code",
   "execution_count": 2,
   "metadata": {},
   "outputs": [],
   "source": [
    "!django-admin startapp vis"
   ]
  },
  {
   "cell_type": "code",
   "execution_count": 10,
   "metadata": {},
   "outputs": [
    {
     "name": "stdout",
     "output_type": "stream",
     "text": [
      "manage.py  proj\r\n"
     ]
    }
   ],
   "source": [
    "! ls proj"
   ]
  },
  {
   "cell_type": "code",
   "execution_count": 12,
   "metadata": {},
   "outputs": [
    {
     "name": "stdout",
     "output_type": "stream",
     "text": [
      "Performing system checks...\n",
      "\n",
      "System check identified no issues (0 silenced).\n",
      "\u001b[31m\n",
      "You have 13 unapplied migration(s). Your project may not work properly until you apply the migrations for app(s): admin, auth, contenttypes, sessions.\u001b[0m\n",
      "\u001b[31mRun 'python manage.py migrate' to apply them.\n",
      "\u001b[0m\n",
      "November 04, 2018 - 16:55:38\n",
      "Django version 1.11.3, using settings 'proj.settings'\n",
      "Starting development server at http://127.0.0.1:8000/\n",
      "Quit the server with CONTROL-C.\n",
      "[04/Nov/2018 16:55:42] \u001b[m\"GET / HTTP/1.1\" 200 1716\u001b[0m\n",
      "Not Found: /favicon.ico\n",
      "[04/Nov/2018 16:55:42] \u001b[33m\"GET /favicon.ico HTTP/1.1\" 404 1960\u001b[0m\n",
      "^C\n"
     ]
    }
   ],
   "source": [
    "!python proj/manage.py runserver"
   ]
  },
  {
   "cell_type": "code",
   "execution_count": 3,
   "metadata": {},
   "outputs": [
    {
     "name": "stdout",
     "output_type": "stream",
     "text": [
      "admin.py  apps.py  __init__.py\tmigrations  models.py  tests.py  views.py\r\n"
     ]
    }
   ],
   "source": [
    "!ls vis"
   ]
  }
 ],
 "metadata": {
  "kernelspec": {
   "display_name": "Python 2",
   "language": "python",
   "name": "python2"
  },
  "language_info": {
   "codemirror_mode": {
    "name": "ipython",
    "version": 2
   },
   "file_extension": ".py",
   "mimetype": "text/x-python",
   "name": "python",
   "nbconvert_exporter": "python",
   "pygments_lexer": "ipython2",
   "version": "2.7.15rc1"
  }
 },
 "nbformat": 4,
 "nbformat_minor": 2
}
